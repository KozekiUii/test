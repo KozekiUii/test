{
  "cells": [
    {
      "cell_type": "code",
      "execution_count": 3,
      "metadata": {
        "id": "AGyEPqW9O7Fp"
      },
      "outputs": [],
      "source": [
        "# For tips on running notebooks in Google Colab, see\n",
        "# https://pytorch.org/tutorials/beginner/colab\n",
        "%matplotlib inline"
      ]
    },
    {
      "cell_type": "markdown",
      "metadata": {
        "id": "E5s55FgWO7Fq"
      },
      "source": [
        "[Learn the Basics](intro.html) \\|\\| **Quickstart** \\|\\|\n",
        "[Tensors](tensorqs_tutorial.html) \\|\\| [Datasets &\n",
        "DataLoaders](data_tutorial.html) \\|\\|\n",
        "[Transforms](transforms_tutorial.html) \\|\\| [Build\n",
        "Model](buildmodel_tutorial.html) \\|\\|\n",
        "[Autograd](autogradqs_tutorial.html) \\|\\|\n",
        "[Optimization](optimization_tutorial.html) \\|\\| [Save & Load\n",
        "Model](saveloadrun_tutorial.html)\n",
        "\n",
        "Quickstart\n",
        "==========\n",
        "\n",
        "This section runs through the API for common tasks in machine learning.\n",
        "Refer to the links in each section to dive deeper.\n",
        "\n",
        "Working with data\n",
        "-----------------\n",
        "\n",
        "PyTorch has two [primitives to work with\n",
        "data](https://pytorch.org/docs/stable/data.html):\n",
        "`torch.utils.data.DataLoader` and `torch.utils.data.Dataset`. `Dataset`\n",
        "stores the samples and their corresponding labels, and `DataLoader`\n",
        "wraps an iterable around the `Dataset`.\n"
      ]
    },
    {
      "cell_type": "code",
      "execution_count": 4,
      "metadata": {
        "id": "sMKN2MYTO7Fr"
      },
      "outputs": [],
      "source": [
        "import torch\n",
        "from torch import nn\n",
        "from torch.utils.data import DataLoader\n",
        "from torchvision import datasets\n",
        "from torchvision.transforms import ToTensor"
      ]
    },
    {
      "cell_type": "markdown",
      "metadata": {
        "id": "_Y4X_bGuO7Fs"
      },
      "source": [
        "PyTorch offers domain-specific libraries such as\n",
        "[TorchText](https://pytorch.org/text/stable/index.html),\n",
        "[TorchVision](https://pytorch.org/vision/stable/index.html), and\n",
        "[TorchAudio](https://pytorch.org/audio/stable/index.html), all of which\n",
        "include datasets. For this tutorial, we will be using a TorchVision\n",
        "dataset.\n",
        "\n",
        "The `torchvision.datasets` module contains `Dataset` objects for many\n",
        "real-world vision data like CIFAR, COCO ([full list\n",
        "here](https://pytorch.org/vision/stable/datasets.html)). In this\n",
        "tutorial, we use the FashionMNIST dataset. Every TorchVision `Dataset`\n",
        "includes two arguments: `transform` and `target_transform` to modify the\n",
        "samples and labels respectively.\n"
      ]
    },
    {
      "cell_type": "code",
      "execution_count": 5,
      "metadata": {
        "colab": {
          "base_uri": "https://localhost:8080/"
        },
        "id": "nbkQyYEGO7Fs",
        "outputId": "7dd5cddf-5c79-4eb8-cbd2-a693447c66d0"
      },
      "outputs": [
        {
          "output_type": "stream",
          "name": "stderr",
          "text": [
            "100%|██████████| 26.4M/26.4M [00:02<00:00, 11.2MB/s]\n",
            "100%|██████████| 29.5k/29.5k [00:00<00:00, 172kB/s]\n",
            "100%|██████████| 4.42M/4.42M [00:01<00:00, 3.33MB/s]\n",
            "100%|██████████| 5.15k/5.15k [00:00<00:00, 8.13MB/s]\n"
          ]
        }
      ],
      "source": [
        "# Download training data from open datasets.\n",
        "training_data = datasets.FashionMNIST(\n",
        "    root=\"data\",\n",
        "    train=True,\n",
        "    download=True,\n",
        "    transform=ToTensor(),\n",
        ")\n",
        "\n",
        "# Download test data from open datasets.\n",
        "test_data = datasets.FashionMNIST(\n",
        "    root=\"data\",\n",
        "    train=False,\n",
        "    download=True,\n",
        "    transform=ToTensor(),\n",
        ")"
      ]
    },
    {
      "cell_type": "markdown",
      "metadata": {
        "id": "xeciI5EWO7Fs"
      },
      "source": [
        "We pass the `Dataset` as an argument to `DataLoader`. This wraps an\n",
        "iterable over our dataset, and supports automatic batching, sampling,\n",
        "shuffling and multiprocess data loading. Here we define a batch size of\n",
        "64, i.e. each element in the dataloader iterable will return a batch of\n",
        "64 features and labels.\n"
      ]
    },
    {
      "cell_type": "code",
      "execution_count": 16,
      "metadata": {
        "colab": {
          "base_uri": "https://localhost:8080/"
        },
        "id": "duJO3Fc2O7Fs",
        "outputId": "ac231e55-cd05-4f5c-f1df-b74e7090e0a3"
      },
      "outputs": [
        {
          "output_type": "stream",
          "name": "stdout",
          "text": [
            "10000\n",
            "Shape of X [N, C, H, W]: torch.Size([64, 1, 28, 28])\n",
            "Shape of y: torch.Size([64]) torch.int64\n",
            "64\n"
          ]
        }
      ],
      "source": [
        "batch_size = 64\n",
        "\n",
        "# Create data loaders.\n",
        "train_dataloader = DataLoader(training_data, batch_size=batch_size)\n",
        "test_dataloader = DataLoader(test_data, batch_size=batch_size)\n",
        "print(len(test_dataloader))\n",
        "\n",
        "for X, y in test_dataloader:\n",
        "    print(f\"Shape of X [N, C, H, W]: {X.shape}\")\n",
        "    print(f\"Shape of y: {y.shape} {y.dtype}\")\n",
        "    print(len(X))\n",
        "    break"
      ]
    },
    {
      "cell_type": "markdown",
      "metadata": {
        "id": "4jrP2KNxO7Ft"
      },
      "source": [
        "Read more about [loading data in PyTorch](data_tutorial.html).\n"
      ]
    },
    {
      "cell_type": "markdown",
      "metadata": {
        "id": "SdYBKIboO7Ft"
      },
      "source": [
        "------------------------------------------------------------------------\n"
      ]
    },
    {
      "cell_type": "markdown",
      "metadata": {
        "id": "-EpMnJV2O7Ft"
      },
      "source": [
        "Creating Models\n",
        "===============\n",
        "\n",
        "To define a neural network in PyTorch, we create a class that inherits\n",
        "from\n",
        "[nn.Module](https://pytorch.org/docs/stable/generated/torch.nn.Module.html).\n",
        "We define the layers of the network in the `__init__` function and\n",
        "specify how data will pass through the network in the `forward`\n",
        "function. To accelerate operations in the neural network, we move it to\n",
        "the\n",
        "[accelerator](https://pytorch.org/docs/stable/torch.html#accelerators)\n",
        "such as CUDA, MPS, MTIA, or XPU. If the current accelerator is\n",
        "available, we will use it. Otherwise, we use the CPU.\n"
      ]
    },
    {
      "cell_type": "code",
      "execution_count": 7,
      "metadata": {
        "colab": {
          "base_uri": "https://localhost:8080/"
        },
        "id": "vpKsL2UJO7Fu",
        "outputId": "9cb6b75d-5be2-47c3-a4d8-6b03399c5426"
      },
      "outputs": [
        {
          "output_type": "stream",
          "name": "stdout",
          "text": [
            "Using cuda device\n",
            "NeuralNetwork(\n",
            "  (flatten): Flatten(start_dim=1, end_dim=-1)\n",
            "  (linear_relu_stack): Sequential(\n",
            "    (0): Linear(in_features=784, out_features=512, bias=True)\n",
            "    (1): ReLU()\n",
            "    (2): Linear(in_features=512, out_features=512, bias=True)\n",
            "    (3): ReLU()\n",
            "    (4): Linear(in_features=512, out_features=10, bias=True)\n",
            "  )\n",
            ")\n"
          ]
        }
      ],
      "source": [
        "device = torch.accelerator.current_accelerator().type if torch.accelerator.is_available() else \"cpu\"\n",
        "print(f\"Using {device} device\")\n",
        "\n",
        "# Define model\n",
        "class NeuralNetwork(nn.Module):\n",
        "    def __init__(self):\n",
        "        super().__init__()\n",
        "        self.flatten = nn.Flatten()\n",
        "        self.linear_relu_stack = nn.Sequential(\n",
        "            nn.Linear(28*28, 512),\n",
        "            nn.ReLU(),\n",
        "            nn.Linear(512, 512),\n",
        "            nn.ReLU(),\n",
        "            nn.Linear(512, 10)\n",
        "        )\n",
        "\n",
        "    def forward(self, x):\n",
        "        x = self.flatten(x)\n",
        "        logits = self.linear_relu_stack(x)\n",
        "        return logits\n",
        "\n",
        "model = NeuralNetwork().to(device)\n",
        "print(model)"
      ]
    },
    {
      "cell_type": "markdown",
      "metadata": {
        "id": "Ot1uGeypO7Fu"
      },
      "source": [
        "------------------------------------------------------------------------\n"
      ]
    },
    {
      "cell_type": "markdown",
      "metadata": {
        "id": "VvrxSb1OO7Fu"
      },
      "source": [
        "Optimizing the Model Parameters\n",
        "===============================\n",
        "\n",
        "To train a model, we need a [loss\n",
        "function](https://pytorch.org/docs/stable/nn.html#loss-functions) and an\n",
        "[optimizer](https://pytorch.org/docs/stable/optim.html).\n"
      ]
    },
    {
      "cell_type": "code",
      "execution_count": 8,
      "metadata": {
        "id": "Rx8d_4HCO7Fu"
      },
      "outputs": [],
      "source": [
        "loss_fn = nn.CrossEntropyLoss()\n",
        "optimizer = torch.optim.SGD(model.parameters(), lr=1e-3)"
      ]
    },
    {
      "cell_type": "markdown",
      "metadata": {
        "id": "9Dx5TRkUO7Fu"
      },
      "source": [
        "In a single training loop, the model makes predictions on the training\n",
        "dataset (fed to it in batches), and backpropagates the prediction error\n",
        "to adjust the model\\'s parameters.\n"
      ]
    },
    {
      "cell_type": "code",
      "execution_count": 9,
      "metadata": {
        "id": "otJMZXElO7Fu"
      },
      "outputs": [],
      "source": [
        "def train(dataloader, model, loss_fn, optimizer):\n",
        "    size = len(dataloader.dataset)\n",
        "    model.train()\n",
        "    for batch, (X, y) in enumerate(dataloader):\n",
        "        X, y = X.to(device), y.to(device)\n",
        "\n",
        "        # Compute prediction error\n",
        "        pred = model(X)\n",
        "        loss = loss_fn(pred, y)\n",
        "\n",
        "        # Backpropagation\n",
        "        loss.backward()\n",
        "        optimizer.step()\n",
        "        optimizer.zero_grad()\n",
        "\n",
        "        if batch % 100 == 0:\n",
        "            loss, current = loss.item(), (batch + 1) * len(X)\n",
        "            print(f\"loss: {loss:>7f}  [{current:>5d}/{size:>5d}]\")"
      ]
    },
    {
      "cell_type": "markdown",
      "metadata": {
        "id": "OwsG2CGRO7Fu"
      },
      "source": [
        "We also check the model\\'s performance against the test dataset to\n",
        "ensure it is learning.\n"
      ]
    },
    {
      "cell_type": "code",
      "execution_count": 10,
      "metadata": {
        "id": "LNRABssrO7Fu"
      },
      "outputs": [],
      "source": [
        "def test(dataloader, model, loss_fn):\n",
        "    size = len(dataloader.dataset)\n",
        "    num_batches = len(dataloader)\n",
        "    model.eval()\n",
        "    test_loss, correct = 0, 0\n",
        "    with torch.no_grad():\n",
        "        for X, y in dataloader:\n",
        "            X, y = X.to(device), y.to(device)\n",
        "            pred = model(X)\n",
        "            test_loss += loss_fn(pred, y).item()\n",
        "            correct += (pred.argmax(1) == y).type(torch.float).sum().item()\n",
        "    test_loss /= num_batches\n",
        "    correct /= size\n",
        "    print(f\"Test Error: \\n Accuracy: {(100*correct):>0.1f}%, Avg loss: {test_loss:>8f} \\n\")"
      ]
    },
    {
      "cell_type": "markdown",
      "metadata": {
        "id": "KE6tY4JBO7Fv"
      },
      "source": [
        "The training process is conducted over several iterations (*epochs*).\n",
        "During each epoch, the model learns parameters to make better\n",
        "predictions. We print the model\\'s accuracy and loss at each epoch;\n",
        "we\\'d like to see the accuracy increase and the loss decrease with every\n",
        "epoch.\n"
      ]
    },
    {
      "cell_type": "code",
      "execution_count": 17,
      "metadata": {
        "colab": {
          "base_uri": "https://localhost:8080/"
        },
        "id": "FxOFa6FFO7Fv",
        "outputId": "8414001e-7a49-4267-c430-ffb63935b716"
      },
      "outputs": [
        {
          "output_type": "stream",
          "name": "stdout",
          "text": [
            "Epoch 1\n",
            "-------------------------------\n",
            "loss: 1.144622  [   64/60000]\n",
            "loss: 1.152914  [ 6464/60000]\n",
            "loss: 0.974250  [12864/60000]\n",
            "loss: 1.110660  [19264/60000]\n",
            "loss: 0.971680  [25664/60000]\n",
            "loss: 1.012566  [32064/60000]\n",
            "loss: 1.051098  [38464/60000]\n",
            "loss: 0.989565  [44864/60000]\n",
            "loss: 1.044618  [51264/60000]\n",
            "loss: 0.958893  [57664/60000]\n",
            "Test Error: \n",
            " Accuracy: 65.7%, Avg loss: 0.977613 \n",
            "\n",
            "Epoch 2\n",
            "-------------------------------\n",
            "loss: 1.030033  [   64/60000]\n",
            "loss: 1.059412  [ 6464/60000]\n",
            "loss: 0.865411  [12864/60000]\n",
            "loss: 1.025454  [19264/60000]\n",
            "loss: 0.886603  [25664/60000]\n",
            "loss: 0.922750  [32064/60000]\n",
            "loss: 0.977235  [38464/60000]\n",
            "loss: 0.917497  [44864/60000]\n",
            "loss: 0.969184  [51264/60000]\n",
            "loss: 0.895557  [57664/60000]\n",
            "Test Error: \n",
            " Accuracy: 67.2%, Avg loss: 0.908177 \n",
            "\n",
            "Epoch 3\n",
            "-------------------------------\n",
            "loss: 0.944635  [   64/60000]\n",
            "loss: 0.992917  [ 6464/60000]\n",
            "loss: 0.786147  [12864/60000]\n",
            "loss: 0.964153  [19264/60000]\n",
            "loss: 0.829277  [25664/60000]\n",
            "loss: 0.855629  [32064/60000]\n",
            "loss: 0.924056  [38464/60000]\n",
            "loss: 0.868024  [44864/60000]\n",
            "loss: 0.913339  [51264/60000]\n",
            "loss: 0.849364  [57664/60000]\n",
            "Test Error: \n",
            " Accuracy: 68.3%, Avg loss: 0.857178 \n",
            "\n",
            "Epoch 4\n",
            "-------------------------------\n",
            "loss: 0.878217  [   64/60000]\n",
            "loss: 0.942186  [ 6464/60000]\n",
            "loss: 0.725666  [12864/60000]\n",
            "loss: 0.917656  [19264/60000]\n",
            "loss: 0.788337  [25664/60000]\n",
            "loss: 0.804422  [32064/60000]\n",
            "loss: 0.882947  [38464/60000]\n",
            "loss: 0.832500  [44864/60000]\n",
            "loss: 0.870467  [51264/60000]\n",
            "loss: 0.813818  [57664/60000]\n",
            "Test Error: \n",
            " Accuracy: 69.7%, Avg loss: 0.817891 \n",
            "\n",
            "Epoch 5\n",
            "-------------------------------\n",
            "loss: 0.824539  [   64/60000]\n",
            "loss: 0.900962  [ 6464/60000]\n",
            "loss: 0.677814  [12864/60000]\n",
            "loss: 0.881263  [19264/60000]\n",
            "loss: 0.757130  [25664/60000]\n",
            "loss: 0.764549  [32064/60000]\n",
            "loss: 0.849361  [38464/60000]\n",
            "loss: 0.805739  [44864/60000]\n",
            "loss: 0.836377  [51264/60000]\n",
            "loss: 0.784963  [57664/60000]\n",
            "Test Error: \n",
            " Accuracy: 71.0%, Avg loss: 0.786328 \n",
            "\n",
            "Epoch 6\n",
            "-------------------------------\n",
            "loss: 0.779701  [   64/60000]\n",
            "loss: 0.865856  [ 6464/60000]\n",
            "loss: 0.638610  [12864/60000]\n",
            "loss: 0.852072  [19264/60000]\n",
            "loss: 0.732105  [25664/60000]\n",
            "loss: 0.732954  [32064/60000]\n",
            "loss: 0.820473  [38464/60000]\n",
            "loss: 0.784487  [44864/60000]\n",
            "loss: 0.808229  [51264/60000]\n",
            "loss: 0.760651  [57664/60000]\n",
            "Test Error: \n",
            " Accuracy: 72.3%, Avg loss: 0.760001 \n",
            "\n",
            "Epoch 7\n",
            "-------------------------------\n",
            "loss: 0.741247  [   64/60000]\n",
            "loss: 0.834773  [ 6464/60000]\n",
            "loss: 0.605708  [12864/60000]\n",
            "loss: 0.828045  [19264/60000]\n",
            "loss: 0.711224  [25664/60000]\n",
            "loss: 0.707302  [32064/60000]\n",
            "loss: 0.794766  [38464/60000]\n",
            "loss: 0.766662  [44864/60000]\n",
            "loss: 0.784530  [51264/60000]\n",
            "loss: 0.739668  [57664/60000]\n",
            "Test Error: \n",
            " Accuracy: 73.4%, Avg loss: 0.737343 \n",
            "\n",
            "Epoch 8\n",
            "-------------------------------\n",
            "loss: 0.707840  [   64/60000]\n",
            "loss: 0.806654  [ 6464/60000]\n",
            "loss: 0.577682  [12864/60000]\n",
            "loss: 0.807797  [19264/60000]\n",
            "loss: 0.693411  [25664/60000]\n",
            "loss: 0.686201  [32064/60000]\n",
            "loss: 0.771250  [38464/60000]\n",
            "loss: 0.751144  [44864/60000]\n",
            "loss: 0.764178  [51264/60000]\n",
            "loss: 0.721088  [57664/60000]\n",
            "Test Error: \n",
            " Accuracy: 74.3%, Avg loss: 0.717354 \n",
            "\n",
            "Epoch 9\n",
            "-------------------------------\n",
            "loss: 0.678497  [   64/60000]\n",
            "loss: 0.781010  [ 6464/60000]\n",
            "loss: 0.553486  [12864/60000]\n",
            "loss: 0.790302  [19264/60000]\n",
            "loss: 0.677864  [25664/60000]\n",
            "loss: 0.668384  [32064/60000]\n",
            "loss: 0.749547  [38464/60000]\n",
            "loss: 0.737215  [44864/60000]\n",
            "loss: 0.746283  [51264/60000]\n",
            "loss: 0.704183  [57664/60000]\n",
            "Test Error: \n",
            " Accuracy: 75.1%, Avg loss: 0.699403 \n",
            "\n",
            "Epoch 10\n",
            "-------------------------------\n",
            "loss: 0.652485  [   64/60000]\n",
            "loss: 0.757487  [ 6464/60000]\n",
            "loss: 0.532341  [12864/60000]\n",
            "loss: 0.774821  [19264/60000]\n",
            "loss: 0.664131  [25664/60000]\n",
            "loss: 0.653181  [32064/60000]\n",
            "loss: 0.729406  [38464/60000]\n",
            "loss: 0.724612  [44864/60000]\n",
            "loss: 0.730532  [51264/60000]\n",
            "loss: 0.688666  [57664/60000]\n",
            "Test Error: \n",
            " Accuracy: 75.9%, Avg loss: 0.683121 \n",
            "\n",
            "Done!\n"
          ]
        }
      ],
      "source": [
        "epochs = 10\n",
        "for t in range(epochs):\n",
        "    print(f\"Epoch {t+1}\\n-------------------------------\")\n",
        "    train(train_dataloader, model, loss_fn, optimizer)\n",
        "    test(test_dataloader, model, loss_fn)\n",
        "print(\"Done!\")"
      ]
    },
    {
      "cell_type": "markdown",
      "metadata": {
        "id": "W2IMDrubO7Fv"
      },
      "source": [
        "Read more about [Training your model](optimization_tutorial.html).\n"
      ]
    },
    {
      "cell_type": "markdown",
      "metadata": {
        "id": "Vwbtq_3gO7Fv"
      },
      "source": [
        "------------------------------------------------------------------------\n"
      ]
    },
    {
      "cell_type": "markdown",
      "metadata": {
        "id": "-xj482YWO7Fv"
      },
      "source": [
        "Saving Models\n",
        "=============\n",
        "\n",
        "A common way to save a model is to serialize the internal state\n",
        "dictionary (containing the model parameters).\n"
      ]
    },
    {
      "cell_type": "code",
      "execution_count": 18,
      "metadata": {
        "colab": {
          "base_uri": "https://localhost:8080/"
        },
        "id": "b8vlTl9nO7Fv",
        "outputId": "7a47d385-3392-44a1-b412-ec38662caad7"
      },
      "outputs": [
        {
          "output_type": "stream",
          "name": "stdout",
          "text": [
            "Saved PyTorch Model State to model.pth\n"
          ]
        }
      ],
      "source": [
        "torch.save(model.state_dict(), \"model.pth\")\n",
        "print(\"Saved PyTorch Model State to model.pth\")"
      ]
    },
    {
      "cell_type": "markdown",
      "metadata": {
        "id": "u3m7VMqtO7Fv"
      },
      "source": [
        "Loading Models\n",
        "==============\n",
        "\n",
        "The process for loading a model includes re-creating the model structure\n",
        "and loading the state dictionary into it.\n"
      ]
    },
    {
      "cell_type": "code",
      "execution_count": 19,
      "metadata": {
        "colab": {
          "base_uri": "https://localhost:8080/"
        },
        "id": "0leXZj35O7Fv",
        "outputId": "39c31b4a-bcd2-4381-bdf5-0658379a8eec"
      },
      "outputs": [
        {
          "output_type": "execute_result",
          "data": {
            "text/plain": [
              "<All keys matched successfully>"
            ]
          },
          "metadata": {},
          "execution_count": 19
        }
      ],
      "source": [
        "model = NeuralNetwork().to(device)\n",
        "model.load_state_dict(torch.load(\"model.pth\", weights_only=True))"
      ]
    },
    {
      "cell_type": "markdown",
      "metadata": {
        "id": "TNiTLGMcO7Fv"
      },
      "source": [
        "This model can now be used to make predictions.\n"
      ]
    },
    {
      "cell_type": "code",
      "execution_count": 20,
      "metadata": {
        "colab": {
          "base_uri": "https://localhost:8080/"
        },
        "id": "LSeYqV8yO7Fv",
        "outputId": "80f70563-bb31-4736-a3d6-bad8cc83498a"
      },
      "outputs": [
        {
          "output_type": "stream",
          "name": "stdout",
          "text": [
            "Predicted: \"Ankle boot\", Actual: \"Ankle boot\"\n"
          ]
        }
      ],
      "source": [
        "classes = [\n",
        "    \"T-shirt/top\",\n",
        "    \"Trouser\",\n",
        "    \"Pullover\",\n",
        "    \"Dress\",\n",
        "    \"Coat\",\n",
        "    \"Sandal\",\n",
        "    \"Shirt\",\n",
        "    \"Sneaker\",\n",
        "    \"Bag\",\n",
        "    \"Ankle boot\",\n",
        "]\n",
        "\n",
        "model.eval()\n",
        "x, y = test_data[0][0], test_data[0][1]\n",
        "with torch.no_grad():\n",
        "    x = x.to(device)\n",
        "    pred = model(x)\n",
        "    predicted, actual = classes[pred[0].argmax(0)], classes[y]\n",
        "    print(f'Predicted: \"{predicted}\", Actual: \"{actual}\"')"
      ]
    },
    {
      "cell_type": "markdown",
      "metadata": {
        "id": "g5Mo-iLRO7Fv"
      },
      "source": [
        "Read more about [Saving & Loading your\n",
        "model](saveloadrun_tutorial.html).\n"
      ]
    }
  ],
  "metadata": {
    "kernelspec": {
      "display_name": "Python 3",
      "name": "python3"
    },
    "language_info": {
      "codemirror_mode": {
        "name": "ipython",
        "version": 3
      },
      "file_extension": ".py",
      "mimetype": "text/x-python",
      "name": "python",
      "nbconvert_exporter": "python",
      "pygments_lexer": "ipython3",
      "version": "3.10.12"
    },
    "colab": {
      "provenance": [],
      "gpuType": "T4"
    },
    "accelerator": "GPU"
  },
  "nbformat": 4,
  "nbformat_minor": 0
}